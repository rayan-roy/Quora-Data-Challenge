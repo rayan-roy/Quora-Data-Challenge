{
 "cells": [
  {
   "cell_type": "markdown",
   "metadata": {},
   "source": [
    "## Quora Data Challenge"
   ]
  },
  {
   "cell_type": "markdown",
   "metadata": {},
   "source": [
    "### Business Context:\n",
    "\n",
    "Suppose you are a data scientist in the Mobile Team at Quora. The team just introduced a new UI design in the Quora App. The goal of the new design is used to increase user engagement (measured by the minutes spent on the site). The team is running A/B tests to evaluate the change. Using the design, help the team understand the impact of the UI change."
   ]
  },
  {
   "cell_type": "markdown",
   "metadata": {},
   "source": [
    " "
   ]
  },
  {
   "cell_type": "markdown",
   "metadata": {},
   "source": [
    "#### Table Schema\n",
    "\n",
    "t1_user_active_min.csv\n",
    "This table contains active minutes data logged after experiment started.\n",
    "Each row represents the total number of minutes spent on site for each user on a date.\n",
    "If a user never visited the site for a given date, there wouldn't be data for that uid on that date.\n",
    "- uid: user ID\n",
    "- dt: date when corresponding active minutes are registered\n",
    "- active_mins: number of minutes spent on site for the date\n",
    "\n",
    "t2_user_variant.csv\n",
    "This table contains users’ treatment assignment.\n",
    "Each row represents the assignment information for a unique user.\n",
    "- uid: user ID\n",
    "- variant_number: the experiment variant user is in. 0 for control, 1 for treatment\n",
    "- dt: date when user entered the experiment, should be ‘2019-02-06’ for all users\n",
    "- signup_date: the date string that user signed up on\n",
    "  \n",
    "t3_user_active_min_pre.csv\n",
    "This table contains active minutes data before the experiment started.\n",
    "It has a similar format as t1, except the dt range can extend before the experiment start date.\n",
    "- uid: user ID\n",
    "- dt: date when corresponding active minutes are registered\n",
    "- active_mins: number of minutes spent on site for the date\n",
    "\n",
    "t4_user_attributes.csv\n",
    "This table contains data about some user attributes.\n",
    "Each row represents attributes of a unique user.\n",
    "- uid: user ID\n",
    "- user_type: segment that a user belongs to, measured by activity level of the user. Can be ‘new_user’, ‘non_reader’, ‘reader’ or ‘contributor’\n",
    "- gender: user gender. Can be ‘male’, ‘female’ or ‘unknown’"
   ]
  },
  {
   "cell_type": "markdown",
   "metadata": {},
   "source": [
    " "
   ]
  },
  {
   "cell_type": "markdown",
   "metadata": {},
   "source": [
    "##### Q1. Using the logged minutes after dataset, do you believe there is improvement between between the control group and the treatment group?"
   ]
  },
  {
   "cell_type": "markdown",
   "metadata": {},
   "source": [
    "### Exploratory Data Analysis"
   ]
  },
  {
   "cell_type": "code",
   "execution_count": 3,
   "metadata": {},
   "outputs": [],
   "source": [
    "import numpy as np\n",
    "import pandas as pd\n",
    "import datetime\n",
    "import matplotlib.pyplot as plt\n",
    "import seaborn as sns\n",
    "from scipy.stats import ttest_ind\n",
    "from scipy.stats import t\n",
    "from scipy import stats"
   ]
  },
  {
   "cell_type": "code",
   "execution_count": 4,
   "metadata": {},
   "outputs": [],
   "source": [
    "# t1am stands for active minutes after the test began\n",
    "# t2uv contains which group each member is assigned\n",
    "t1am = pd.read_csv(\"t1_user_active_min.csv\")\n",
    "t2uv = pd.read_csv(\"t2_user_variant.csv\")"
   ]
  },
  {
   "cell_type": "code",
   "execution_count": 114,
   "metadata": {},
   "outputs": [
    {
     "data": {
      "text/html": [
       "<div>\n",
       "<style scoped>\n",
       "    .dataframe tbody tr th:only-of-type {\n",
       "        vertical-align: middle;\n",
       "    }\n",
       "\n",
       "    .dataframe tbody tr th {\n",
       "        vertical-align: top;\n",
       "    }\n",
       "\n",
       "    .dataframe thead th {\n",
       "        text-align: right;\n",
       "    }\n",
       "</style>\n",
       "<table border=\"1\" class=\"dataframe\">\n",
       "  <thead>\n",
       "    <tr style=\"text-align: right;\">\n",
       "      <th></th>\n",
       "      <th>uid</th>\n",
       "      <th>dt</th>\n",
       "      <th>active_mins</th>\n",
       "    </tr>\n",
       "  </thead>\n",
       "  <tbody>\n",
       "    <tr>\n",
       "      <th>0</th>\n",
       "      <td>0</td>\n",
       "      <td>2019-02-22</td>\n",
       "      <td>5.0</td>\n",
       "    </tr>\n",
       "    <tr>\n",
       "      <th>1</th>\n",
       "      <td>0</td>\n",
       "      <td>2019-03-11</td>\n",
       "      <td>5.0</td>\n",
       "    </tr>\n",
       "    <tr>\n",
       "      <th>2</th>\n",
       "      <td>0</td>\n",
       "      <td>2019-03-18</td>\n",
       "      <td>3.0</td>\n",
       "    </tr>\n",
       "    <tr>\n",
       "      <th>3</th>\n",
       "      <td>0</td>\n",
       "      <td>2019-03-22</td>\n",
       "      <td>4.0</td>\n",
       "    </tr>\n",
       "    <tr>\n",
       "      <th>4</th>\n",
       "      <td>0</td>\n",
       "      <td>2019-04-03</td>\n",
       "      <td>9.0</td>\n",
       "    </tr>\n",
       "    <tr>\n",
       "      <th>5</th>\n",
       "      <td>0</td>\n",
       "      <td>2019-04-06</td>\n",
       "      <td>1.0</td>\n",
       "    </tr>\n",
       "    <tr>\n",
       "      <th>6</th>\n",
       "      <td>0</td>\n",
       "      <td>2019-04-17</td>\n",
       "      <td>1.0</td>\n",
       "    </tr>\n",
       "    <tr>\n",
       "      <th>7</th>\n",
       "      <td>0</td>\n",
       "      <td>2019-05-07</td>\n",
       "      <td>3.0</td>\n",
       "    </tr>\n",
       "    <tr>\n",
       "      <th>8</th>\n",
       "      <td>0</td>\n",
       "      <td>2019-05-14</td>\n",
       "      <td>1.0</td>\n",
       "    </tr>\n",
       "    <tr>\n",
       "      <th>9</th>\n",
       "      <td>0</td>\n",
       "      <td>2019-05-19</td>\n",
       "      <td>1.0</td>\n",
       "    </tr>\n",
       "  </tbody>\n",
       "</table>\n",
       "</div>"
      ],
      "text/plain": [
       "   uid          dt  active_mins\n",
       "0    0  2019-02-22          5.0\n",
       "1    0  2019-03-11          5.0\n",
       "2    0  2019-03-18          3.0\n",
       "3    0  2019-03-22          4.0\n",
       "4    0  2019-04-03          9.0\n",
       "5    0  2019-04-06          1.0\n",
       "6    0  2019-04-17          1.0\n",
       "7    0  2019-05-07          3.0\n",
       "8    0  2019-05-14          1.0\n",
       "9    0  2019-05-19          1.0"
      ]
     },
     "execution_count": 114,
     "metadata": {},
     "output_type": "execute_result"
    }
   ],
   "source": [
    "t1am.head(10)\n",
    "# Initial observation: A single user can visit the site on multiple day"
   ]
  },
  {
   "cell_type": "code",
   "execution_count": 4,
   "metadata": {},
   "outputs": [
    {
     "data": {
      "text/html": [
       "<div>\n",
       "<style scoped>\n",
       "    .dataframe tbody tr th:only-of-type {\n",
       "        vertical-align: middle;\n",
       "    }\n",
       "\n",
       "    .dataframe tbody tr th {\n",
       "        vertical-align: top;\n",
       "    }\n",
       "\n",
       "    .dataframe thead th {\n",
       "        text-align: right;\n",
       "    }\n",
       "</style>\n",
       "<table border=\"1\" class=\"dataframe\">\n",
       "  <thead>\n",
       "    <tr style=\"text-align: right;\">\n",
       "      <th></th>\n",
       "      <th>uid</th>\n",
       "      <th>variant_number</th>\n",
       "      <th>dt</th>\n",
       "      <th>signup_date</th>\n",
       "    </tr>\n",
       "  </thead>\n",
       "  <tbody>\n",
       "    <tr>\n",
       "      <th>0</th>\n",
       "      <td>0</td>\n",
       "      <td>0</td>\n",
       "      <td>2019-02-06</td>\n",
       "      <td>2018-09-24</td>\n",
       "    </tr>\n",
       "    <tr>\n",
       "      <th>1</th>\n",
       "      <td>1</td>\n",
       "      <td>0</td>\n",
       "      <td>2019-02-06</td>\n",
       "      <td>2016-11-07</td>\n",
       "    </tr>\n",
       "    <tr>\n",
       "      <th>2</th>\n",
       "      <td>2</td>\n",
       "      <td>0</td>\n",
       "      <td>2019-02-06</td>\n",
       "      <td>2018-09-17</td>\n",
       "    </tr>\n",
       "    <tr>\n",
       "      <th>3</th>\n",
       "      <td>3</td>\n",
       "      <td>0</td>\n",
       "      <td>2019-02-06</td>\n",
       "      <td>2018-03-04</td>\n",
       "    </tr>\n",
       "    <tr>\n",
       "      <th>4</th>\n",
       "      <td>4</td>\n",
       "      <td>0</td>\n",
       "      <td>2019-02-06</td>\n",
       "      <td>2017-03-09</td>\n",
       "    </tr>\n",
       "  </tbody>\n",
       "</table>\n",
       "</div>"
      ],
      "text/plain": [
       "   uid  variant_number          dt signup_date\n",
       "0    0               0  2019-02-06  2018-09-24\n",
       "1    1               0  2019-02-06  2016-11-07\n",
       "2    2               0  2019-02-06  2018-09-17\n",
       "3    3               0  2019-02-06  2018-03-04\n",
       "4    4               0  2019-02-06  2017-03-09"
      ]
     },
     "execution_count": 4,
     "metadata": {},
     "output_type": "execute_result"
    }
   ],
   "source": [
    "t2uv.head()"
   ]
  },
  {
   "cell_type": "code",
   "execution_count": 5,
   "metadata": {},
   "outputs": [
    {
     "data": {
      "text/html": [
       "<div>\n",
       "<style scoped>\n",
       "    .dataframe tbody tr th:only-of-type {\n",
       "        vertical-align: middle;\n",
       "    }\n",
       "\n",
       "    .dataframe tbody tr th {\n",
       "        vertical-align: top;\n",
       "    }\n",
       "\n",
       "    .dataframe thead th {\n",
       "        text-align: right;\n",
       "    }\n",
       "</style>\n",
       "<table border=\"1\" class=\"dataframe\">\n",
       "  <thead>\n",
       "    <tr style=\"text-align: right;\">\n",
       "      <th></th>\n",
       "      <th>uid</th>\n",
       "      <th>variant_number</th>\n",
       "    </tr>\n",
       "  </thead>\n",
       "  <tbody>\n",
       "    <tr>\n",
       "      <th>count</th>\n",
       "      <td>50000.000000</td>\n",
       "      <td>50000.000000</td>\n",
       "    </tr>\n",
       "    <tr>\n",
       "      <th>mean</th>\n",
       "      <td>24999.500000</td>\n",
       "      <td>0.200000</td>\n",
       "    </tr>\n",
       "    <tr>\n",
       "      <th>std</th>\n",
       "      <td>14433.901067</td>\n",
       "      <td>0.400004</td>\n",
       "    </tr>\n",
       "    <tr>\n",
       "      <th>min</th>\n",
       "      <td>0.000000</td>\n",
       "      <td>0.000000</td>\n",
       "    </tr>\n",
       "    <tr>\n",
       "      <th>25%</th>\n",
       "      <td>12499.750000</td>\n",
       "      <td>0.000000</td>\n",
       "    </tr>\n",
       "    <tr>\n",
       "      <th>50%</th>\n",
       "      <td>24999.500000</td>\n",
       "      <td>0.000000</td>\n",
       "    </tr>\n",
       "    <tr>\n",
       "      <th>75%</th>\n",
       "      <td>37499.250000</td>\n",
       "      <td>0.000000</td>\n",
       "    </tr>\n",
       "    <tr>\n",
       "      <th>max</th>\n",
       "      <td>49999.000000</td>\n",
       "      <td>1.000000</td>\n",
       "    </tr>\n",
       "  </tbody>\n",
       "</table>\n",
       "</div>"
      ],
      "text/plain": [
       "                uid  variant_number\n",
       "count  50000.000000    50000.000000\n",
       "mean   24999.500000        0.200000\n",
       "std    14433.901067        0.400004\n",
       "min        0.000000        0.000000\n",
       "25%    12499.750000        0.000000\n",
       "50%    24999.500000        0.000000\n",
       "75%    37499.250000        0.000000\n",
       "max    49999.000000        1.000000"
      ]
     },
     "execution_count": 5,
     "metadata": {},
     "output_type": "execute_result"
    }
   ],
   "source": [
    "t1am.describe()\n",
    "t2uv.describe()"
   ]
  },
  {
   "cell_type": "code",
   "execution_count": 6,
   "metadata": {},
   "outputs": [
    {
     "name": "stdout",
     "output_type": "stream",
     "text": [
      "<class 'pandas.core.frame.DataFrame'>\n",
      "RangeIndex: 1066402 entries, 0 to 1066401\n",
      "Data columns (total 3 columns):\n",
      " #   Column       Non-Null Count    Dtype  \n",
      "---  ------       --------------    -----  \n",
      " 0   uid          1066402 non-null  int64  \n",
      " 1   dt           1066402 non-null  object \n",
      " 2   active_mins  1066402 non-null  float64\n",
      "dtypes: float64(1), int64(1), object(1)\n",
      "memory usage: 24.4+ MB\n",
      "<class 'pandas.core.frame.DataFrame'>\n",
      "RangeIndex: 50000 entries, 0 to 49999\n",
      "Data columns (total 4 columns):\n",
      " #   Column          Non-Null Count  Dtype \n",
      "---  ------          --------------  ----- \n",
      " 0   uid             50000 non-null  int64 \n",
      " 1   variant_number  50000 non-null  int64 \n",
      " 2   dt              50000 non-null  object\n",
      " 3   signup_date     50000 non-null  object\n",
      "dtypes: int64(2), object(2)\n",
      "memory usage: 1.5+ MB\n"
     ]
    }
   ],
   "source": [
    "t1am.info()\n",
    "t2uv.info()\n",
    "# There are no missing values for both the t1_user_active_min and the t2_user_variant file. We can also see there are\n",
    "# more values in t1am since a single users can come to site many times. "
   ]
  },
  {
   "cell_type": "code",
   "execution_count": 7,
   "metadata": {},
   "outputs": [
    {
     "data": {
      "text/plain": [
       "0    40000\n",
       "1    10000\n",
       "Name: variant_number, dtype: int64"
      ]
     },
     "execution_count": 7,
     "metadata": {},
     "output_type": "execute_result"
    }
   ],
   "source": [
    "t2uv['variant_number'].value_counts()\n",
    "# There are 40000 (80%) users who are in control group and 10000 (20%) users who are in treatment group"
   ]
  },
  {
   "cell_type": "markdown",
   "metadata": {},
   "source": [
    "**Cleaning Data and removing outliers**"
   ]
  },
  {
   "cell_type": "code",
   "execution_count": 115,
   "metadata": {},
   "outputs": [],
   "source": [
    "# In a day there are 24 hours or 24*60 = 1440 minutes. So a user cannot spent more than 1440 minutes on the app in a\n",
    "# day. Lets check if there are any values like that might have been done due to error.\n",
    "\n",
    "len(t1am[(t1am[\"active_mins\"] > 1440)])\n",
    "\n",
    "# There are 172 rows with active minutes a user spent larger than 1440 minutes, which is not possible. \n",
    "# We will remove them\n",
    "t1am = t1am[(t1am[\"active_mins\"] <= 1440)]"
   ]
  },
  {
   "cell_type": "code",
   "execution_count": 9,
   "metadata": {},
   "outputs": [
    {
     "data": {
      "text/plain": [
       "<matplotlib.axes._subplots.AxesSubplot at 0x1a16d23050>"
      ]
     },
     "execution_count": 9,
     "metadata": {},
     "output_type": "execute_result"
    },
    {
     "data": {
      "image/png": "[encoded data removed]",
      "text/plain": [
       "<Figure size 432x288 with 1 Axes>"
      ]
     },
     "metadata": {
      "needs_background": "light"
     },
     "output_type": "display_data"
    }
   ],
   "source": [
    "# We will further detect outliers in active minutes using IQR method.\n",
    "\n",
    "# Lets plot the data first\n",
    "sns.boxplot(t1am['active_mins'])\n",
    "# As we can see there are large number of outliers present (black dots)"
   ]
  },
  {
   "cell_type": "code",
   "execution_count": 116,
   "metadata": {},
   "outputs": [
    {
     "name": "stdout",
     "output_type": "stream",
     "text": [
      "0\n",
      "41834\n"
     ]
    },
    {
     "data": {
      "text/plain": [
       "(809790, 3)"
      ]
     },
     "execution_count": 116,
     "metadata": {},
     "output_type": "execute_result"
    }
   ],
   "source": [
    "# Using IQR (interquartile range) method, we remove values that are less then lower quartile and more \n",
    "# than upper quartile.\n",
    "# The IQR is used to measure how spread out the data points in a set are from the mean of the data set. \n",
    "\n",
    "Q1 = t1am['active_mins'].quantile(0.25)\n",
    "Q3 = t1am['active_mins'].quantile(0.75)\n",
    "IQR = Q3 - Q1\n",
    "print(len(t1am[((t1am.active_mins) <  Q1 - 1.5*IQR)]))\n",
    "print(len(t1am[((t1am.active_mins) > Q3 + 1.5*IQR)]))\n",
    "\n",
    "t1am = t1am[((t1am.active_mins) >=  Q1 - 1.5*IQR)]\n",
    "t1am = t1am[((t1am.active_mins) <= Q3 + 1.5*IQR)]\n",
    "t1am.shape"
   ]
  },
  {
   "cell_type": "code",
   "execution_count": 15,
   "metadata": {},
   "outputs": [
    {
     "data": {
      "text/plain": [
       "<matplotlib.axes._subplots.AxesSubplot at 0x1a1f5fe710>"
      ]
     },
     "execution_count": 15,
     "metadata": {},
     "output_type": "execute_result"
    },
    {
     "data": {
      "image/png": "[encoded data removed]",
      "text/plain": [
       "<Figure size 432x288 with 1 Axes>"
      ]
     },
     "metadata": {
      "needs_background": "light"
     },
     "output_type": "display_data"
    }
   ],
   "source": [
    "sns.boxplot(t1am['active_mins'])\n",
    "# The values seem much more reasonable"
   ]
  },
  {
   "cell_type": "code",
   "execution_count": 25,
   "metadata": {},
   "outputs": [],
   "source": [
    "# We will merge both t1 and t2 where uid is common\n",
    "merged_table = pd.merge(left=t1am,right=t2uv, left_on='uid', right_on='uid', how='inner')"
   ]
  },
  {
   "cell_type": "code",
   "execution_count": 26,
   "metadata": {},
   "outputs": [
    {
     "data": {
      "text/html": [
       "<div>\n",
       "<style scoped>\n",
       "    .dataframe tbody tr th:only-of-type {\n",
       "        vertical-align: middle;\n",
       "    }\n",
       "\n",
       "    .dataframe tbody tr th {\n",
       "        vertical-align: top;\n",
       "    }\n",
       "\n",
       "    .dataframe thead th {\n",
       "        text-align: right;\n",
       "    }\n",
       "</style>\n",
       "<table border=\"1\" class=\"dataframe\">\n",
       "  <thead>\n",
       "    <tr style=\"text-align: right;\">\n",
       "      <th></th>\n",
       "      <th>uid</th>\n",
       "      <th>dt_x</th>\n",
       "      <th>active_mins</th>\n",
       "      <th>variant_number</th>\n",
       "      <th>dt_y</th>\n",
       "      <th>signup_date</th>\n",
       "    </tr>\n",
       "  </thead>\n",
       "  <tbody>\n",
       "    <tr>\n",
       "      <th>0</th>\n",
       "      <td>0</td>\n",
       "      <td>2019-02-22</td>\n",
       "      <td>5.0</td>\n",
       "      <td>0</td>\n",
       "      <td>2019-02-06</td>\n",
       "      <td>2018-09-24</td>\n",
       "    </tr>\n",
       "    <tr>\n",
       "      <th>1</th>\n",
       "      <td>0</td>\n",
       "      <td>2019-03-11</td>\n",
       "      <td>5.0</td>\n",
       "      <td>0</td>\n",
       "      <td>2019-02-06</td>\n",
       "      <td>2018-09-24</td>\n",
       "    </tr>\n",
       "    <tr>\n",
       "      <th>2</th>\n",
       "      <td>0</td>\n",
       "      <td>2019-03-18</td>\n",
       "      <td>3.0</td>\n",
       "      <td>0</td>\n",
       "      <td>2019-02-06</td>\n",
       "      <td>2018-09-24</td>\n",
       "    </tr>\n",
       "    <tr>\n",
       "      <th>3</th>\n",
       "      <td>0</td>\n",
       "      <td>2019-03-22</td>\n",
       "      <td>4.0</td>\n",
       "      <td>0</td>\n",
       "      <td>2019-02-06</td>\n",
       "      <td>2018-09-24</td>\n",
       "    </tr>\n",
       "    <tr>\n",
       "      <th>4</th>\n",
       "      <td>0</td>\n",
       "      <td>2019-04-03</td>\n",
       "      <td>9.0</td>\n",
       "      <td>0</td>\n",
       "      <td>2019-02-06</td>\n",
       "      <td>2018-09-24</td>\n",
       "    </tr>\n",
       "  </tbody>\n",
       "</table>\n",
       "</div>"
      ],
      "text/plain": [
       "   uid        dt_x  active_mins  variant_number        dt_y signup_date\n",
       "0    0  2019-02-22          5.0               0  2019-02-06  2018-09-24\n",
       "1    0  2019-03-11          5.0               0  2019-02-06  2018-09-24\n",
       "2    0  2019-03-18          3.0               0  2019-02-06  2018-09-24\n",
       "3    0  2019-03-22          4.0               0  2019-02-06  2018-09-24\n",
       "4    0  2019-04-03          9.0               0  2019-02-06  2018-09-24"
      ]
     },
     "execution_count": 26,
     "metadata": {},
     "output_type": "execute_result"
    }
   ],
   "source": [
    "merged_table.head()"
   ]
  },
  {
   "cell_type": "code",
   "execution_count": 31,
   "metadata": {},
   "outputs": [
    {
     "data": {
      "text/plain": [
       "0    712448\n",
       "1    139176\n",
       "Name: variant_number, dtype: int64"
      ]
     },
     "execution_count": 31,
     "metadata": {},
     "output_type": "execute_result"
    }
   ],
   "source": [
    "# row in each group\n",
    "merged_table[\"variant_number\"].value_counts()\n",
    "# We can see control group has 712448 users and treatment group has 139176 users"
   ]
  },
  {
   "cell_type": "code",
   "execution_count": 35,
   "metadata": {},
   "outputs": [
    {
     "data": {
      "text/plain": [
       "0    37372\n",
       "1     9172\n",
       "Name: variant_number, dtype: int64"
      ]
     },
     "execution_count": 35,
     "metadata": {},
     "output_type": "execute_result"
    }
   ],
   "source": [
    "# We will group by user to compute mean time across all the visits\n",
    "df_compare = merged_table.groupby(['uid','variant_number'], as_index = False)['active_mins'].mean()\n",
    "df_compare.variant_number.value_counts()\n",
    "# We can see control group has 37372 users and treatment group has 9172 users"
   ]
  },
  {
   "cell_type": "markdown",
   "metadata": {},
   "source": [
    "### Computing the Hypothesis Test"
   ]
  },
  {
   "cell_type": "markdown",
   "metadata": {},
   "source": [
    "We will use hypothesis testing to compute the difference between treatment group and the control group. We use the Welch test, because its a two-sample t-test with unequal variance and is used to test the hypothesis that two populations have equal means"
   ]
  },
  {
   "cell_type": "code",
   "execution_count": 5,
   "metadata": {},
   "outputs": [],
   "source": [
    "# Unpaired 2 sample-t-test also known as Welch Test with unequal variance\n",
    "# It is assumed that variance is uneven\n",
    "def welch_ttest(x1, x2,alternative_hypothesis):\n",
    "    \n",
    "    n1 = x1.size # sample size\n",
    "    n2 = x2.size\n",
    "    m1 = np.mean(x1) # mean\n",
    "    m2 = np.mean(x2)\n",
    "    delta = m1-m2\n",
    "    \n",
    "    v1 = np.var(x1, ddof=1) #variance\n",
    "    v2 = np.var(x2, ddof=1)\n",
    "    \n",
    "    pooled_se = np.sqrt(v1 / n1 + v2 / n2) # pooled standard error\n",
    "    \n",
    "    \n",
    "    tstat = delta/pooled_se\n",
    "    df = (v1/n1 + v2/n2)**2 / (v1**2 / (n1**2 * (n1 - 1)) + v2**2 / (n2**2 * (n2 - 1)))\n",
    "    \n",
    "    # two sided independent t-test\n",
    "    p = 2*t.cdf(-abs(tstat), df)\n",
    "    \n",
    "    # upper and lower bounds\n",
    "    lowerb = delta - t.ppf(0.975,df)*pooled_se \n",
    "    upperb = delta + t.ppf(0.975,df)*pooled_se\n",
    "  \n",
    "    return pd.DataFrame(np.array([df,tstat,p,delta,lowerb,upperb]).reshape(1,-1),\n",
    "                         columns=['df','T statistic','pvalue-2-sided','Difference in mean',\n",
    "                                  'lower_bound','upper_bound'])\n"
   ]
  },
  {
   "cell_type": "code",
   "execution_count": 83,
   "metadata": {},
   "outputs": [
    {
     "data": {
      "text/html": [
       "<div>\n",
       "<style scoped>\n",
       "    .dataframe tbody tr th:only-of-type {\n",
       "        vertical-align: middle;\n",
       "    }\n",
       "\n",
       "    .dataframe tbody tr th {\n",
       "        vertical-align: top;\n",
       "    }\n",
       "\n",
       "    .dataframe thead th {\n",
       "        text-align: right;\n",
       "    }\n",
       "</style>\n",
       "<table border=\"1\" class=\"dataframe\">\n",
       "  <thead>\n",
       "    <tr style=\"text-align: right;\">\n",
       "      <th></th>\n",
       "      <th>df</th>\n",
       "      <th>T statistic</th>\n",
       "      <th>pvalue-2-sided</th>\n",
       "      <th>Difference in mean</th>\n",
       "      <th>lower_bound</th>\n",
       "      <th>upper_bound</th>\n",
       "    </tr>\n",
       "  </thead>\n",
       "  <tbody>\n",
       "    <tr>\n",
       "      <th>0</th>\n",
       "      <td>14265.407186</td>\n",
       "      <td>39.089502</td>\n",
       "      <td>0.0</td>\n",
       "      <td>1.231513</td>\n",
       "      <td>1.169759</td>\n",
       "      <td>1.293267</td>\n",
       "    </tr>\n",
       "  </tbody>\n",
       "</table>\n",
       "</div>"
      ],
      "text/plain": [
       "             df  T statistic  pvalue-2-sided  Difference in mean  lower_bound  \\\n",
       "0  14265.407186    39.089502             0.0            1.231513     1.169759   \n",
       "\n",
       "   upper_bound  \n",
       "0     1.293267  "
      ]
     },
     "execution_count": 83,
     "metadata": {},
     "output_type": "execute_result"
    }
   ],
   "source": [
    "control = df_compare[df_compare.variant_number == 0].active_mins\n",
    "treatment = df_compare[df_compare.variant_number == 1].active_mins\n",
    "welch_ttest(treatment, control, \"equal\")"
   ]
  },
  {
   "cell_type": "markdown",
   "metadata": {},
   "source": [
    "Since p-value < 0, we fail to reject the null hypothesis and conclude there is significant difference between the control and treatment group."
   ]
  },
  {
   "cell_type": "code",
   "execution_count": 97,
   "metadata": {},
   "outputs": [
    {
     "data": {
      "text/html": [
       "<div>\n",
       "<style scoped>\n",
       "    .dataframe tbody tr th:only-of-type {\n",
       "        vertical-align: middle;\n",
       "    }\n",
       "\n",
       "    .dataframe tbody tr th {\n",
       "        vertical-align: top;\n",
       "    }\n",
       "\n",
       "    .dataframe thead th {\n",
       "        text-align: right;\n",
       "    }\n",
       "</style>\n",
       "<table border=\"1\" class=\"dataframe\">\n",
       "  <thead>\n",
       "    <tr style=\"text-align: right;\">\n",
       "      <th></th>\n",
       "      <th>variant_number</th>\n",
       "      <th>active_mins</th>\n",
       "    </tr>\n",
       "  </thead>\n",
       "  <tbody>\n",
       "    <tr>\n",
       "      <th>0</th>\n",
       "      <td>0</td>\n",
       "      <td>4.384977</td>\n",
       "    </tr>\n",
       "    <tr>\n",
       "      <th>1</th>\n",
       "      <td>1</td>\n",
       "      <td>5.616490</td>\n",
       "    </tr>\n",
       "  </tbody>\n",
       "</table>\n",
       "</div>"
      ],
      "text/plain": [
       "   variant_number  active_mins\n",
       "0               0     4.384977\n",
       "1               1     5.616490"
      ]
     },
     "execution_count": 97,
     "metadata": {},
     "output_type": "execute_result"
    }
   ],
   "source": [
    "df_compare.groupby('variant_number', as_index=False)['active_mins'].mean()"
   ]
  },
  {
   "cell_type": "code",
   "execution_count": 105,
   "metadata": {},
   "outputs": [
    {
     "data": {
      "text/plain": [
       "7.590691748264707"
      ]
     },
     "execution_count": 105,
     "metadata": {},
     "output_type": "execute_result"
    }
   ],
   "source": [
    "control.var()\n",
    "treatment.var()"
   ]
  },
  {
   "cell_type": "markdown",
   "metadata": {},
   "source": [
    "##### Q2. Include the logged minutes before test dataset, do you believe there is improvement between the control group (before the test dataset) and the treatment group (after the test dataset)? How does the pre-experiment data change your conclusion about the treatment effect on the experiment"
   ]
  },
  {
   "cell_type": "code",
   "execution_count": 69,
   "metadata": {},
   "outputs": [
    {
     "name": "stdout",
     "output_type": "stream",
     "text": [
      "<class 'pandas.core.frame.DataFrame'>\n",
      "RangeIndex: 1190093 entries, 0 to 1190092\n",
      "Data columns (total 3 columns):\n",
      " #   Column       Non-Null Count    Dtype  \n",
      "---  ------       --------------    -----  \n",
      " 0   uid          1190093 non-null  int64  \n",
      " 1   dt           1190093 non-null  object \n",
      " 2   active_mins  1190093 non-null  float64\n",
      "dtypes: float64(1), int64(1), object(1)\n",
      "memory usage: 27.2+ MB\n"
     ]
    }
   ],
   "source": [
    "# We know this table contains active minutes data before the experiment started.\n",
    "t3am = pd.read_csv(\"t3_user_active_min_pre.csv\")\n",
    "t3am.head()\n",
    "t3am.info()\n",
    "# There are no missing values"
   ]
  },
  {
   "cell_type": "code",
   "execution_count": 71,
   "metadata": {},
   "outputs": [
    {
     "data": {
      "text/plain": [
       "(1189927, 3)"
      ]
     },
     "execution_count": 71,
     "metadata": {},
     "output_type": "execute_result"
    }
   ],
   "source": [
    "# Remove all values that are beyond 1440 minutes\n",
    "len(t3am[(t3am[\"active_mins\"] > 1440)]) # Removed 160 rows\n",
    "t3am = t3am[(t3am[\"active_mins\"] <= 1440)]\n",
    "t3am.shape"
   ]
  },
  {
   "cell_type": "code",
   "execution_count": 72,
   "metadata": {},
   "outputs": [
    {
     "data": {
      "text/plain": [
       "<matplotlib.axes._subplots.AxesSubplot at 0x1a238f5d50>"
      ]
     },
     "execution_count": 72,
     "metadata": {},
     "output_type": "execute_result"
    },
    {
     "data": {
      "image/png": "[encoded data removed]",
      "text/plain": [
       "<Figure size 432x288 with 1 Axes>"
      ]
     },
     "metadata": {
      "needs_background": "light"
     },
     "output_type": "display_data"
    }
   ],
   "source": [
    "# Lets plot the data first\n",
    "sns.boxplot(t3am['active_mins']) \n",
    "# We see a large number of outliers present "
   ]
  },
  {
   "cell_type": "code",
   "execution_count": 117,
   "metadata": {},
   "outputs": [
    {
     "name": "stdout",
     "output_type": "stream",
     "text": [
      "0\n",
      "98546\n"
     ]
    },
    {
     "data": {
      "text/plain": [
       "(930219, 3)"
      ]
     },
     "execution_count": 117,
     "metadata": {},
     "output_type": "execute_result"
    }
   ],
   "source": [
    "Q1 = t3am['active_mins'].quantile(0.25)\n",
    "Q3 = t3am['active_mins'].quantile(0.75)\n",
    "IQR = Q3 - Q1\n",
    "\n",
    "print(len(t3am[((t3am.active_mins) <  Q1 - 1.5*IQR)]))\n",
    "print(len(t3am[((t3am.active_mins) > Q3 + 1.5*IQR)]))\n",
    "\n",
    "t3am = t3am[((t3am.active_mins) >=  Q1 - 1.5*IQR)]\n",
    "t3am = t3am[((t3am.active_mins) <= Q3 + 1.5*IQR)]\n",
    "t3am.shape"
   ]
  },
  {
   "cell_type": "code",
   "execution_count": 74,
   "metadata": {},
   "outputs": [
    {
     "data": {
      "text/plain": [
       "<matplotlib.axes._subplots.AxesSubplot at 0x1a1a155a90>"
      ]
     },
     "execution_count": 74,
     "metadata": {},
     "output_type": "execute_result"
    },
    {
     "data": {
      "image/png": "[encoded data removed]",
      "text/plain": [
       "<Figure size 432x288 with 1 Axes>"
      ]
     },
     "metadata": {
      "needs_background": "light"
     },
     "output_type": "display_data"
    }
   ],
   "source": [
    "sns.boxplot(t3am['active_mins'])"
   ]
  },
  {
   "cell_type": "markdown",
   "metadata": {},
   "source": [
    "#### Conducting unpaired sample t-test (Welch Test)\n"
   ]
  },
  {
   "cell_type": "code",
   "execution_count": 77,
   "metadata": {},
   "outputs": [
    {
     "data": {
      "text/html": [
       "<div>\n",
       "<style scoped>\n",
       "    .dataframe tbody tr th:only-of-type {\n",
       "        vertical-align: middle;\n",
       "    }\n",
       "\n",
       "    .dataframe tbody tr th {\n",
       "        vertical-align: top;\n",
       "    }\n",
       "\n",
       "    .dataframe thead th {\n",
       "        text-align: right;\n",
       "    }\n",
       "</style>\n",
       "<table border=\"1\" class=\"dataframe\">\n",
       "  <thead>\n",
       "    <tr style=\"text-align: right;\">\n",
       "      <th></th>\n",
       "      <th>uid</th>\n",
       "      <th>dt_x</th>\n",
       "      <th>active_mins</th>\n",
       "      <th>variant_number</th>\n",
       "      <th>dt_y</th>\n",
       "      <th>signup_date</th>\n",
       "    </tr>\n",
       "  </thead>\n",
       "  <tbody>\n",
       "    <tr>\n",
       "      <th>0</th>\n",
       "      <td>0</td>\n",
       "      <td>2018-09-24</td>\n",
       "      <td>3.0</td>\n",
       "      <td>0</td>\n",
       "      <td>2019-02-06</td>\n",
       "      <td>2018-09-24</td>\n",
       "    </tr>\n",
       "    <tr>\n",
       "      <th>1</th>\n",
       "      <td>0</td>\n",
       "      <td>2018-11-08</td>\n",
       "      <td>4.0</td>\n",
       "      <td>0</td>\n",
       "      <td>2019-02-06</td>\n",
       "      <td>2018-09-24</td>\n",
       "    </tr>\n",
       "    <tr>\n",
       "      <th>2</th>\n",
       "      <td>0</td>\n",
       "      <td>2018-11-24</td>\n",
       "      <td>3.0</td>\n",
       "      <td>0</td>\n",
       "      <td>2019-02-06</td>\n",
       "      <td>2018-09-24</td>\n",
       "    </tr>\n",
       "    <tr>\n",
       "      <th>3</th>\n",
       "      <td>0</td>\n",
       "      <td>2018-11-28</td>\n",
       "      <td>6.0</td>\n",
       "      <td>0</td>\n",
       "      <td>2019-02-06</td>\n",
       "      <td>2018-09-24</td>\n",
       "    </tr>\n",
       "    <tr>\n",
       "      <th>4</th>\n",
       "      <td>0</td>\n",
       "      <td>2018-12-02</td>\n",
       "      <td>6.0</td>\n",
       "      <td>0</td>\n",
       "      <td>2019-02-06</td>\n",
       "      <td>2018-09-24</td>\n",
       "    </tr>\n",
       "  </tbody>\n",
       "</table>\n",
       "</div>"
      ],
      "text/plain": [
       "   uid        dt_x  active_mins  variant_number        dt_y signup_date\n",
       "0    0  2018-09-24          3.0               0  2019-02-06  2018-09-24\n",
       "1    0  2018-11-08          4.0               0  2019-02-06  2018-09-24\n",
       "2    0  2018-11-24          3.0               0  2019-02-06  2018-09-24\n",
       "3    0  2018-11-28          6.0               0  2019-02-06  2018-09-24\n",
       "4    0  2018-12-02          6.0               0  2019-02-06  2018-09-24"
      ]
     },
     "execution_count": 77,
     "metadata": {},
     "output_type": "execute_result"
    }
   ],
   "source": [
    "# First we will merge table 2 with table 3 to get which users are in control and treatment group\n",
    "merged_table_2 = pd.merge(left=t3am,right=t2uv, left_on='uid', right_on='uid', how=\"inner\")\n",
    "merged_table_2.head()"
   ]
  },
  {
   "cell_type": "code",
   "execution_count": 79,
   "metadata": {},
   "outputs": [
    {
     "data": {
      "text/plain": [
       "0    39734\n",
       "1     9910\n",
       "Name: variant_number, dtype: int64"
      ]
     },
     "execution_count": 79,
     "metadata": {},
     "output_type": "execute_result"
    }
   ],
   "source": [
    "merged_table_2[\"variant_number\"].value_counts()\n",
    "# We will group by user to compute mean time across all the visits for users before the experiment began\n",
    "df_compare_2 = merged_table_2.groupby(['uid','variant_number'], as_index = False)['active_mins'].mean()\n",
    "df_compare_2.variant_number.value_counts()\n",
    "# We can see control group has 39734 users and treatment group has 9910 users"
   ]
  },
  {
   "cell_type": "code",
   "execution_count": null,
   "metadata": {},
   "outputs": [],
   "source": [
    "# We cannot do a paired sample t-test since the users aren't the same for before and after experiment.\n",
    "# We use the control group before experimentation starts and compare that with the treatment group after experimentation\n",
    "# starts\n",
    "# We will use the indepedent/unpaired sample t-test with unequal variance"
   ]
  },
  {
   "cell_type": "code",
   "execution_count": 122,
   "metadata": {},
   "outputs": [],
   "source": [
    "mu_before = df_compare[df_compare.variant_number==0]['active_mins']\n",
    "mu_after = df_compare_2[df_compare_2.variant_number==1]['active_mins']"
   ]
  },
  {
   "cell_type": "code",
   "execution_count": 124,
   "metadata": {},
   "outputs": [
    {
     "data": {
      "text/html": [
       "<div>\n",
       "<style scoped>\n",
       "    .dataframe tbody tr th:only-of-type {\n",
       "        vertical-align: middle;\n",
       "    }\n",
       "\n",
       "    .dataframe tbody tr th {\n",
       "        vertical-align: top;\n",
       "    }\n",
       "\n",
       "    .dataframe thead th {\n",
       "        text-align: right;\n",
       "    }\n",
       "</style>\n",
       "<table border=\"1\" class=\"dataframe\">\n",
       "  <thead>\n",
       "    <tr style=\"text-align: right;\">\n",
       "      <th></th>\n",
       "      <th>df</th>\n",
       "      <th>T statistic</th>\n",
       "      <th>pvalue-2-sided</th>\n",
       "      <th>Difference in mean</th>\n",
       "      <th>lower_bound</th>\n",
       "      <th>upper_bound</th>\n",
       "    </tr>\n",
       "  </thead>\n",
       "  <tbody>\n",
       "    <tr>\n",
       "      <th>0</th>\n",
       "      <td>13638.365042</td>\n",
       "      <td>11.830363</td>\n",
       "      <td>3.904822e-32</td>\n",
       "      <td>0.433627</td>\n",
       "      <td>0.361781</td>\n",
       "      <td>0.505474</td>\n",
       "    </tr>\n",
       "  </tbody>\n",
       "</table>\n",
       "</div>"
      ],
      "text/plain": [
       "             df  T statistic  pvalue-2-sided  Difference in mean  lower_bound  \\\n",
       "0  13638.365042    11.830363    3.904822e-32            0.433627     0.361781   \n",
       "\n",
       "   upper_bound  \n",
       "0     0.505474  "
      ]
     },
     "execution_count": 124,
     "metadata": {},
     "output_type": "execute_result"
    }
   ],
   "source": [
    "welch_ttest(mu_after, mu_before, \"equal\")"
   ]
  },
  {
   "cell_type": "markdown",
   "metadata": {},
   "source": [
    "Since p-value < 0, we reject the null hypothesis and conclude that there is significant difference between the treatment group (post-test) and the control group (pre-test). Since the mean of active minutes is higher under the treatment group, we can conclude that the treatment does improve the user engagament."
   ]
  },
  {
   "cell_type": "markdown",
   "metadata": {},
   "source": [
    "##### Q3. Include the attributes dataset, do you believe there is improvement between the control group (before the test dataset) and the treatment group (after the test dataset) based on different user attributes?"
   ]
  },
  {
   "cell_type": "code",
   "execution_count": 129,
   "metadata": {},
   "outputs": [
    {
     "data": {
      "text/html": [
       "<div>\n",
       "<style scoped>\n",
       "    .dataframe tbody tr th:only-of-type {\n",
       "        vertical-align: middle;\n",
       "    }\n",
       "\n",
       "    .dataframe tbody tr th {\n",
       "        vertical-align: top;\n",
       "    }\n",
       "\n",
       "    .dataframe thead th {\n",
       "        text-align: right;\n",
       "    }\n",
       "</style>\n",
       "<table border=\"1\" class=\"dataframe\">\n",
       "  <thead>\n",
       "    <tr style=\"text-align: right;\">\n",
       "      <th></th>\n",
       "      <th>uid</th>\n",
       "      <th>gender</th>\n",
       "      <th>user_type</th>\n",
       "    </tr>\n",
       "  </thead>\n",
       "  <tbody>\n",
       "    <tr>\n",
       "      <th>0</th>\n",
       "      <td>0</td>\n",
       "      <td>male</td>\n",
       "      <td>non_reader</td>\n",
       "    </tr>\n",
       "    <tr>\n",
       "      <th>1</th>\n",
       "      <td>1</td>\n",
       "      <td>male</td>\n",
       "      <td>reader</td>\n",
       "    </tr>\n",
       "    <tr>\n",
       "      <th>2</th>\n",
       "      <td>2</td>\n",
       "      <td>male</td>\n",
       "      <td>non_reader</td>\n",
       "    </tr>\n",
       "    <tr>\n",
       "      <th>3</th>\n",
       "      <td>3</td>\n",
       "      <td>male</td>\n",
       "      <td>non_reader</td>\n",
       "    </tr>\n",
       "    <tr>\n",
       "      <th>4</th>\n",
       "      <td>4</td>\n",
       "      <td>male</td>\n",
       "      <td>non_reader</td>\n",
       "    </tr>\n",
       "  </tbody>\n",
       "</table>\n",
       "</div>"
      ],
      "text/plain": [
       "   uid gender   user_type\n",
       "0    0   male  non_reader\n",
       "1    1   male      reader\n",
       "2    2   male  non_reader\n",
       "3    3   male  non_reader\n",
       "4    4   male  non_reader"
      ]
     },
     "execution_count": 129,
     "metadata": {},
     "output_type": "execute_result"
    }
   ],
   "source": [
    "t4ua = pd.read_csv(\"t4_user_attributes.csv\")\n",
    "t4ua.head()"
   ]
  },
  {
   "cell_type": "code",
   "execution_count": 131,
   "metadata": {},
   "outputs": [
    {
     "data": {
      "text/html": [
       "<div>\n",
       "<style scoped>\n",
       "    .dataframe tbody tr th:only-of-type {\n",
       "        vertical-align: middle;\n",
       "    }\n",
       "\n",
       "    .dataframe tbody tr th {\n",
       "        vertical-align: top;\n",
       "    }\n",
       "\n",
       "    .dataframe thead th {\n",
       "        text-align: right;\n",
       "    }\n",
       "</style>\n",
       "<table border=\"1\" class=\"dataframe\">\n",
       "  <thead>\n",
       "    <tr style=\"text-align: right;\">\n",
       "      <th></th>\n",
       "      <th>uid</th>\n",
       "      <th>gender</th>\n",
       "      <th>user_type</th>\n",
       "      <th>variant_number</th>\n",
       "      <th>dt</th>\n",
       "      <th>signup_date</th>\n",
       "    </tr>\n",
       "  </thead>\n",
       "  <tbody>\n",
       "    <tr>\n",
       "      <th>0</th>\n",
       "      <td>0</td>\n",
       "      <td>male</td>\n",
       "      <td>non_reader</td>\n",
       "      <td>0</td>\n",
       "      <td>2019-02-06</td>\n",
       "      <td>2018-09-24</td>\n",
       "    </tr>\n",
       "    <tr>\n",
       "      <th>1</th>\n",
       "      <td>1</td>\n",
       "      <td>male</td>\n",
       "      <td>reader</td>\n",
       "      <td>0</td>\n",
       "      <td>2019-02-06</td>\n",
       "      <td>2016-11-07</td>\n",
       "    </tr>\n",
       "    <tr>\n",
       "      <th>2</th>\n",
       "      <td>2</td>\n",
       "      <td>male</td>\n",
       "      <td>non_reader</td>\n",
       "      <td>0</td>\n",
       "      <td>2019-02-06</td>\n",
       "      <td>2018-09-17</td>\n",
       "    </tr>\n",
       "    <tr>\n",
       "      <th>3</th>\n",
       "      <td>3</td>\n",
       "      <td>male</td>\n",
       "      <td>non_reader</td>\n",
       "      <td>0</td>\n",
       "      <td>2019-02-06</td>\n",
       "      <td>2018-03-04</td>\n",
       "    </tr>\n",
       "    <tr>\n",
       "      <th>4</th>\n",
       "      <td>4</td>\n",
       "      <td>male</td>\n",
       "      <td>non_reader</td>\n",
       "      <td>0</td>\n",
       "      <td>2019-02-06</td>\n",
       "      <td>2017-03-09</td>\n",
       "    </tr>\n",
       "  </tbody>\n",
       "</table>\n",
       "</div>"
      ],
      "text/plain": [
       "   uid gender   user_type  variant_number          dt signup_date\n",
       "0    0   male  non_reader               0  2019-02-06  2018-09-24\n",
       "1    1   male      reader               0  2019-02-06  2016-11-07\n",
       "2    2   male  non_reader               0  2019-02-06  2018-09-17\n",
       "3    3   male  non_reader               0  2019-02-06  2018-03-04\n",
       "4    4   male  non_reader               0  2019-02-06  2017-03-09"
      ]
     },
     "execution_count": 131,
     "metadata": {},
     "output_type": "execute_result"
    }
   ],
   "source": [
    "#We will look into the treatment effect of different covariates of gender and user_type along with their interaction\n",
    "table5 = pd.merge(left=t4ua,right=t2uv, left_on='uid', right_on='uid', how= \"inner\")\n",
    "table5.head()"
   ]
  },
  {
   "cell_type": "code",
   "execution_count": 132,
   "metadata": {},
   "outputs": [
    {
     "data": {
      "text/html": [
       "<div>\n",
       "<style scoped>\n",
       "    .dataframe tbody tr th:only-of-type {\n",
       "        vertical-align: middle;\n",
       "    }\n",
       "\n",
       "    .dataframe tbody tr th {\n",
       "        vertical-align: top;\n",
       "    }\n",
       "\n",
       "    .dataframe thead th {\n",
       "        text-align: right;\n",
       "    }\n",
       "</style>\n",
       "<table border=\"1\" class=\"dataframe\">\n",
       "  <thead>\n",
       "    <tr style=\"text-align: right;\">\n",
       "      <th>user_type</th>\n",
       "      <th>contributor</th>\n",
       "      <th>new_user</th>\n",
       "      <th>non_reader</th>\n",
       "      <th>reader</th>\n",
       "    </tr>\n",
       "    <tr>\n",
       "      <th>variant_number</th>\n",
       "      <th></th>\n",
       "      <th></th>\n",
       "      <th></th>\n",
       "      <th></th>\n",
       "    </tr>\n",
       "  </thead>\n",
       "  <tbody>\n",
       "    <tr>\n",
       "      <th>0</th>\n",
       "      <td>0.022875</td>\n",
       "      <td>0.091325</td>\n",
       "      <td>0.717475</td>\n",
       "      <td>0.168325</td>\n",
       "    </tr>\n",
       "    <tr>\n",
       "      <th>1</th>\n",
       "      <td>0.012900</td>\n",
       "      <td>0.123500</td>\n",
       "      <td>0.736700</td>\n",
       "      <td>0.126900</td>\n",
       "    </tr>\n",
       "  </tbody>\n",
       "</table>\n",
       "</div>"
      ],
      "text/plain": [
       "user_type       contributor  new_user  non_reader    reader\n",
       "variant_number                                             \n",
       "0                  0.022875  0.091325    0.717475  0.168325\n",
       "1                  0.012900  0.123500    0.736700  0.126900"
      ]
     },
     "execution_count": 132,
     "metadata": {},
     "output_type": "execute_result"
    }
   ],
   "source": [
    "# Looking at the user type\n",
    "pd.crosstab(table5['variant_number'],table5['user_type']).apply(lambda r: r/r.sum(), axis=1)"
   ]
  },
  {
   "cell_type": "code",
   "execution_count": 133,
   "metadata": {},
   "outputs": [
    {
     "data": {
      "text/html": [
       "<div>\n",
       "<style scoped>\n",
       "    .dataframe tbody tr th:only-of-type {\n",
       "        vertical-align: middle;\n",
       "    }\n",
       "\n",
       "    .dataframe tbody tr th {\n",
       "        vertical-align: top;\n",
       "    }\n",
       "\n",
       "    .dataframe thead th {\n",
       "        text-align: right;\n",
       "    }\n",
       "</style>\n",
       "<table border=\"1\" class=\"dataframe\">\n",
       "  <thead>\n",
       "    <tr style=\"text-align: right;\">\n",
       "      <th>gender</th>\n",
       "      <th>female</th>\n",
       "      <th>male</th>\n",
       "      <th>unknown</th>\n",
       "    </tr>\n",
       "    <tr>\n",
       "      <th>variant_number</th>\n",
       "      <th></th>\n",
       "      <th></th>\n",
       "      <th></th>\n",
       "    </tr>\n",
       "  </thead>\n",
       "  <tbody>\n",
       "    <tr>\n",
       "      <th>0</th>\n",
       "      <td>0.290175</td>\n",
       "      <td>0.555925</td>\n",
       "      <td>0.1539</td>\n",
       "    </tr>\n",
       "    <tr>\n",
       "      <th>1</th>\n",
       "      <td>0.287000</td>\n",
       "      <td>0.552000</td>\n",
       "      <td>0.1610</td>\n",
       "    </tr>\n",
       "  </tbody>\n",
       "</table>\n",
       "</div>"
      ],
      "text/plain": [
       "gender            female      male  unknown\n",
       "variant_number                             \n",
       "0               0.290175  0.555925   0.1539\n",
       "1               0.287000  0.552000   0.1610"
      ]
     },
     "execution_count": 133,
     "metadata": {},
     "output_type": "execute_result"
    }
   ],
   "source": [
    "# Looking at the gender type\n",
    "pd.crosstab(table5['variant_number'],table5['gender']).apply(lambda r: r/r.sum(), axis=1)"
   ]
  },
  {
   "cell_type": "code",
   "execution_count": 134,
   "metadata": {},
   "outputs": [
    {
     "data": {
      "text/html": [
       "<div>\n",
       "<style scoped>\n",
       "    .dataframe tbody tr th:only-of-type {\n",
       "        vertical-align: middle;\n",
       "    }\n",
       "\n",
       "    .dataframe tbody tr th {\n",
       "        vertical-align: top;\n",
       "    }\n",
       "\n",
       "    .dataframe thead th {\n",
       "        text-align: right;\n",
       "    }\n",
       "</style>\n",
       "<table border=\"1\" class=\"dataframe\">\n",
       "  <thead>\n",
       "    <tr style=\"text-align: right;\">\n",
       "      <th>user_type</th>\n",
       "      <th>contributor</th>\n",
       "      <th>new_user</th>\n",
       "      <th>non_reader</th>\n",
       "      <th>reader</th>\n",
       "    </tr>\n",
       "    <tr>\n",
       "      <th>gender</th>\n",
       "      <th></th>\n",
       "      <th></th>\n",
       "      <th></th>\n",
       "      <th></th>\n",
       "    </tr>\n",
       "  </thead>\n",
       "  <tbody>\n",
       "    <tr>\n",
       "      <th>female</th>\n",
       "      <td>0.017200</td>\n",
       "      <td>0.109898</td>\n",
       "      <td>0.723907</td>\n",
       "      <td>0.148995</td>\n",
       "    </tr>\n",
       "    <tr>\n",
       "      <th>male</th>\n",
       "      <td>0.024462</td>\n",
       "      <td>0.083619</td>\n",
       "      <td>0.716108</td>\n",
       "      <td>0.175812</td>\n",
       "    </tr>\n",
       "    <tr>\n",
       "      <th>unknown</th>\n",
       "      <td>0.014937</td>\n",
       "      <td>0.125676</td>\n",
       "      <td>0.735127</td>\n",
       "      <td>0.124260</td>\n",
       "    </tr>\n",
       "  </tbody>\n",
       "</table>\n",
       "</div>"
      ],
      "text/plain": [
       "user_type  contributor  new_user  non_reader    reader\n",
       "gender                                                \n",
       "female        0.017200  0.109898    0.723907  0.148995\n",
       "male          0.024462  0.083619    0.716108  0.175812\n",
       "unknown       0.014937  0.125676    0.735127  0.124260"
      ]
     },
     "execution_count": 134,
     "metadata": {},
     "output_type": "execute_result"
    }
   ],
   "source": [
    "# Looking at interaction\n",
    "pd.crosstab(table5['gender'],table5['user_type']).apply(lambda r: r/r.sum(), axis=1)"
   ]
  },
  {
   "cell_type": "code",
   "execution_count": 135,
   "metadata": {},
   "outputs": [
    {
     "data": {
      "text/html": [
       "<div>\n",
       "<style scoped>\n",
       "    .dataframe tbody tr th:only-of-type {\n",
       "        vertical-align: middle;\n",
       "    }\n",
       "\n",
       "    .dataframe tbody tr th {\n",
       "        vertical-align: top;\n",
       "    }\n",
       "\n",
       "    .dataframe thead th {\n",
       "        text-align: right;\n",
       "    }\n",
       "</style>\n",
       "<table border=\"1\" class=\"dataframe\">\n",
       "  <thead>\n",
       "    <tr style=\"text-align: right;\">\n",
       "      <th></th>\n",
       "      <th>uid</th>\n",
       "      <th>dt_x</th>\n",
       "      <th>active_mins</th>\n",
       "      <th>gender</th>\n",
       "      <th>user_type</th>\n",
       "      <th>variant_number</th>\n",
       "      <th>dt_y</th>\n",
       "      <th>signup_date</th>\n",
       "    </tr>\n",
       "  </thead>\n",
       "  <tbody>\n",
       "    <tr>\n",
       "      <th>0</th>\n",
       "      <td>0</td>\n",
       "      <td>2019-02-22</td>\n",
       "      <td>5.0</td>\n",
       "      <td>male</td>\n",
       "      <td>non_reader</td>\n",
       "      <td>0</td>\n",
       "      <td>2019-02-06</td>\n",
       "      <td>2018-09-24</td>\n",
       "    </tr>\n",
       "    <tr>\n",
       "      <th>1</th>\n",
       "      <td>0</td>\n",
       "      <td>2019-03-11</td>\n",
       "      <td>5.0</td>\n",
       "      <td>male</td>\n",
       "      <td>non_reader</td>\n",
       "      <td>0</td>\n",
       "      <td>2019-02-06</td>\n",
       "      <td>2018-09-24</td>\n",
       "    </tr>\n",
       "    <tr>\n",
       "      <th>2</th>\n",
       "      <td>0</td>\n",
       "      <td>2019-03-18</td>\n",
       "      <td>3.0</td>\n",
       "      <td>male</td>\n",
       "      <td>non_reader</td>\n",
       "      <td>0</td>\n",
       "      <td>2019-02-06</td>\n",
       "      <td>2018-09-24</td>\n",
       "    </tr>\n",
       "    <tr>\n",
       "      <th>3</th>\n",
       "      <td>0</td>\n",
       "      <td>2019-03-22</td>\n",
       "      <td>4.0</td>\n",
       "      <td>male</td>\n",
       "      <td>non_reader</td>\n",
       "      <td>0</td>\n",
       "      <td>2019-02-06</td>\n",
       "      <td>2018-09-24</td>\n",
       "    </tr>\n",
       "    <tr>\n",
       "      <th>4</th>\n",
       "      <td>0</td>\n",
       "      <td>2019-04-03</td>\n",
       "      <td>9.0</td>\n",
       "      <td>male</td>\n",
       "      <td>non_reader</td>\n",
       "      <td>0</td>\n",
       "      <td>2019-02-06</td>\n",
       "      <td>2018-09-24</td>\n",
       "    </tr>\n",
       "  </tbody>\n",
       "</table>\n",
       "</div>"
      ],
      "text/plain": [
       "   uid        dt_x  active_mins gender   user_type  variant_number  \\\n",
       "0    0  2019-02-22          5.0   male  non_reader               0   \n",
       "1    0  2019-03-11          5.0   male  non_reader               0   \n",
       "2    0  2019-03-18          3.0   male  non_reader               0   \n",
       "3    0  2019-03-22          4.0   male  non_reader               0   \n",
       "4    0  2019-04-03          9.0   male  non_reader               0   \n",
       "\n",
       "         dt_y signup_date  \n",
       "0  2019-02-06  2018-09-24  \n",
       "1  2019-02-06  2018-09-24  \n",
       "2  2019-02-06  2018-09-24  \n",
       "3  2019-02-06  2018-09-24  \n",
       "4  2019-02-06  2018-09-24  "
      ]
     },
     "execution_count": 135,
     "metadata": {},
     "output_type": "execute_result"
    }
   ],
   "source": [
    "# We will further join this table with table 2 which has control and treatment\n",
    "merged_final = pd.merge(left=t1am,right=table5, left_on='uid', right_on='uid')\n",
    "merged_final.head()"
   ]
  },
  {
   "cell_type": "markdown",
   "metadata": {},
   "source": [
    "### This is an important graphic"
   ]
  },
  {
   "cell_type": "code",
   "execution_count": 138,
   "metadata": {},
   "outputs": [
    {
     "data": {
      "text/html": [
       "<div>\n",
       "<style scoped>\n",
       "    .dataframe tbody tr th:only-of-type {\n",
       "        vertical-align: middle;\n",
       "    }\n",
       "\n",
       "    .dataframe tbody tr th {\n",
       "        vertical-align: top;\n",
       "    }\n",
       "\n",
       "    .dataframe thead th {\n",
       "        text-align: right;\n",
       "    }\n",
       "</style>\n",
       "<table border=\"1\" class=\"dataframe\">\n",
       "  <thead>\n",
       "    <tr style=\"text-align: right;\">\n",
       "      <th></th>\n",
       "      <th>uid</th>\n",
       "      <th>variant_number</th>\n",
       "      <th>gender</th>\n",
       "      <th>user_type</th>\n",
       "      <th>active_mins</th>\n",
       "    </tr>\n",
       "  </thead>\n",
       "  <tbody>\n",
       "    <tr>\n",
       "      <th>0</th>\n",
       "      <td>0</td>\n",
       "      <td>0</td>\n",
       "      <td>male</td>\n",
       "      <td>non_reader</td>\n",
       "      <td>3.307692</td>\n",
       "    </tr>\n",
       "    <tr>\n",
       "      <th>1</th>\n",
       "      <td>1</td>\n",
       "      <td>0</td>\n",
       "      <td>male</td>\n",
       "      <td>reader</td>\n",
       "      <td>9.000000</td>\n",
       "    </tr>\n",
       "    <tr>\n",
       "      <th>2</th>\n",
       "      <td>2</td>\n",
       "      <td>0</td>\n",
       "      <td>male</td>\n",
       "      <td>non_reader</td>\n",
       "      <td>2.428571</td>\n",
       "    </tr>\n",
       "    <tr>\n",
       "      <th>3</th>\n",
       "      <td>3</td>\n",
       "      <td>0</td>\n",
       "      <td>male</td>\n",
       "      <td>non_reader</td>\n",
       "      <td>3.208333</td>\n",
       "    </tr>\n",
       "    <tr>\n",
       "      <th>4</th>\n",
       "      <td>4</td>\n",
       "      <td>0</td>\n",
       "      <td>male</td>\n",
       "      <td>non_reader</td>\n",
       "      <td>1.950000</td>\n",
       "    </tr>\n",
       "    <tr>\n",
       "      <th>5</th>\n",
       "      <td>5</td>\n",
       "      <td>0</td>\n",
       "      <td>female</td>\n",
       "      <td>non_reader</td>\n",
       "      <td>9.000000</td>\n",
       "    </tr>\n",
       "    <tr>\n",
       "      <th>6</th>\n",
       "      <td>6</td>\n",
       "      <td>0</td>\n",
       "      <td>female</td>\n",
       "      <td>non_reader</td>\n",
       "      <td>2.000000</td>\n",
       "    </tr>\n",
       "    <tr>\n",
       "      <th>7</th>\n",
       "      <td>7</td>\n",
       "      <td>0</td>\n",
       "      <td>male</td>\n",
       "      <td>non_reader</td>\n",
       "      <td>3.000000</td>\n",
       "    </tr>\n",
       "    <tr>\n",
       "      <th>8</th>\n",
       "      <td>9</td>\n",
       "      <td>0</td>\n",
       "      <td>female</td>\n",
       "      <td>non_reader</td>\n",
       "      <td>3.000000</td>\n",
       "    </tr>\n",
       "    <tr>\n",
       "      <th>9</th>\n",
       "      <td>10</td>\n",
       "      <td>0</td>\n",
       "      <td>male</td>\n",
       "      <td>non_reader</td>\n",
       "      <td>4.096774</td>\n",
       "    </tr>\n",
       "    <tr>\n",
       "      <th>10</th>\n",
       "      <td>11</td>\n",
       "      <td>0</td>\n",
       "      <td>female</td>\n",
       "      <td>non_reader</td>\n",
       "      <td>4.000000</td>\n",
       "    </tr>\n",
       "    <tr>\n",
       "      <th>11</th>\n",
       "      <td>13</td>\n",
       "      <td>0</td>\n",
       "      <td>male</td>\n",
       "      <td>non_reader</td>\n",
       "      <td>2.833333</td>\n",
       "    </tr>\n",
       "    <tr>\n",
       "      <th>12</th>\n",
       "      <td>14</td>\n",
       "      <td>0</td>\n",
       "      <td>male</td>\n",
       "      <td>non_reader</td>\n",
       "      <td>1.500000</td>\n",
       "    </tr>\n",
       "    <tr>\n",
       "      <th>13</th>\n",
       "      <td>15</td>\n",
       "      <td>0</td>\n",
       "      <td>male</td>\n",
       "      <td>reader</td>\n",
       "      <td>2.916667</td>\n",
       "    </tr>\n",
       "    <tr>\n",
       "      <th>14</th>\n",
       "      <td>16</td>\n",
       "      <td>0</td>\n",
       "      <td>female</td>\n",
       "      <td>non_reader</td>\n",
       "      <td>3.111111</td>\n",
       "    </tr>\n",
       "    <tr>\n",
       "      <th>15</th>\n",
       "      <td>17</td>\n",
       "      <td>0</td>\n",
       "      <td>female</td>\n",
       "      <td>reader</td>\n",
       "      <td>8.181818</td>\n",
       "    </tr>\n",
       "    <tr>\n",
       "      <th>16</th>\n",
       "      <td>18</td>\n",
       "      <td>0</td>\n",
       "      <td>male</td>\n",
       "      <td>non_reader</td>\n",
       "      <td>1.000000</td>\n",
       "    </tr>\n",
       "    <tr>\n",
       "      <th>17</th>\n",
       "      <td>19</td>\n",
       "      <td>0</td>\n",
       "      <td>female</td>\n",
       "      <td>reader</td>\n",
       "      <td>6.192308</td>\n",
       "    </tr>\n",
       "    <tr>\n",
       "      <th>18</th>\n",
       "      <td>20</td>\n",
       "      <td>0</td>\n",
       "      <td>male</td>\n",
       "      <td>non_reader</td>\n",
       "      <td>2.264706</td>\n",
       "    </tr>\n",
       "    <tr>\n",
       "      <th>19</th>\n",
       "      <td>21</td>\n",
       "      <td>0</td>\n",
       "      <td>male</td>\n",
       "      <td>non_reader</td>\n",
       "      <td>1.833333</td>\n",
       "    </tr>\n",
       "  </tbody>\n",
       "</table>\n",
       "</div>"
      ],
      "text/plain": [
       "    uid  variant_number  gender   user_type  active_mins\n",
       "0     0               0    male  non_reader     3.307692\n",
       "1     1               0    male      reader     9.000000\n",
       "2     2               0    male  non_reader     2.428571\n",
       "3     3               0    male  non_reader     3.208333\n",
       "4     4               0    male  non_reader     1.950000\n",
       "5     5               0  female  non_reader     9.000000\n",
       "6     6               0  female  non_reader     2.000000\n",
       "7     7               0    male  non_reader     3.000000\n",
       "8     9               0  female  non_reader     3.000000\n",
       "9    10               0    male  non_reader     4.096774\n",
       "10   11               0  female  non_reader     4.000000\n",
       "11   13               0    male  non_reader     2.833333\n",
       "12   14               0    male  non_reader     1.500000\n",
       "13   15               0    male      reader     2.916667\n",
       "14   16               0  female  non_reader     3.111111\n",
       "15   17               0  female      reader     8.181818\n",
       "16   18               0    male  non_reader     1.000000\n",
       "17   19               0  female      reader     6.192308\n",
       "18   20               0    male  non_reader     2.264706\n",
       "19   21               0    male  non_reader     1.833333"
      ]
     },
     "execution_count": 138,
     "metadata": {},
     "output_type": "execute_result"
    }
   ],
   "source": [
    "df_final = merged_final.groupby(['uid','variant_number','gender','user_type'], as_index=False)['active_mins'].mean()\n",
    "df_final.head(20)"
   ]
  },
  {
   "cell_type": "code",
   "execution_count": 139,
   "metadata": {},
   "outputs": [],
   "source": [
    "df_final.to_csv('df_quora.csv')"
   ]
  },
  {
   "cell_type": "markdown",
   "metadata": {},
   "source": [
    "#### We will calculate the confidence interval for each user type using the unpaired sample t-test"
   ]
  },
  {
   "cell_type": "code",
   "execution_count": 160,
   "metadata": {},
   "outputs": [
    {
     "data": {
      "text/plain": [
       "(-0.4025475610198284, 0.4571292621233723)"
      ]
     },
     "execution_count": 160,
     "metadata": {},
     "output_type": "execute_result"
    }
   ],
   "source": [
    "\n",
    "desciptive_stats = df_final.groupby(['variant_number','user_type'])['active_mins'].agg(['mean', 'count', 'std','var']).reset_index()\n",
    "    \n",
    "def welch_ttest_usertype(stats,usrtype):\n",
    "    x1 = stats[(stats.variant_number==0) & (stats.user_type==usrtype)]\n",
    "    x2 = stats[(stats.variant_number==1) & (stats.user_type==usrtype)]\n",
    "    \n",
    "    n1 = x1.iloc[0]['count']\n",
    "    n2 = x2.iloc[0]['count']\n",
    "    m1 = x1.iloc[0]['mean']\n",
    "    m2 = x2.iloc[0]['mean']\n",
    "    v1 = x1.iloc[0]['var']\n",
    "    v2 = x2.iloc[0]['var']\n",
    "    \n",
    "    pooled_se = np.sqrt(v1 / n1 + v2 / n2) # pooled standard error\n",
    "    delta = m1-m2\n",
    "    \n",
    "    tstat = delta/pooled_se\n",
    "    df = (v1/n1 + v2/n2)**2 / (v1**2 / (n1**2 * (n1 - 1)) + v2**2 / (n2**2 * (n2 - 1)))\n",
    "    \n",
    "    # upper and lower bounds\n",
    "    lowerb = delta - t.ppf(0.975,df)*pooled_se \n",
    "    upperb = delta + t.ppf(0.975,df)*pooled_se\n",
    "  \n",
    "    return (lowerb, upperb)"
   ]
  },
  {
   "cell_type": "code",
   "execution_count": 161,
   "metadata": {},
   "outputs": [
    {
     "data": {
      "text/plain": [
       "['contributor', 'new_user', 'non_reader', 'reader']"
      ]
     },
     "execution_count": 161,
     "metadata": {},
     "output_type": "execute_result"
    }
   ],
   "source": [
    "ustypes = desciptive_stats['user_type'].unique()\n",
    "ustypes = ustypes.tolist()\n",
    "ustypes"
   ]
  },
  {
   "cell_type": "code",
   "execution_count": 163,
   "metadata": {},
   "outputs": [
    {
     "name": "stdout",
     "output_type": "stream",
     "text": [
      "contributor : (-0.4025475610198284, 0.4571292621233723)\n",
      "new_user : (-1.6139312215979746, -1.253031952000315)\n",
      "non_reader : (-1.3799518113388707, -1.2854616371212881)\n",
      "reader : (-0.7787305259690616, -0.5361562817457148)\n"
     ]
    }
   ],
   "source": [
    "for i in ustypes:\n",
    "    interval = welch_ttest_usertype(desciptive_stats,i)\n",
    "    print(i, ':', interval)"
   ]
  },
  {
   "cell_type": "markdown",
   "metadata": {},
   "source": [
    "**We can see that the contributor user type is non significant difference since 0 is in the interval. The rest of the user type are all significant. This indicates that there is significant difference between the control group and the treatment group for user type new_user, non_reader and reader.**\n",
    "\n",
    "#### We will calculate the confidence interval for each gender using the unpaired sample t-test"
   ]
  },
  {
   "cell_type": "code",
   "execution_count": 167,
   "metadata": {},
   "outputs": [],
   "source": [
    "\n",
    "desciptive_stats2 = df_final.groupby(['variant_number','gender'])['active_mins'].agg(['mean', 'count', 'std','var']).reset_index()\n",
    "\n",
    "def welch_ttest_gender(stats,gendr):\n",
    "    x1 = stats[(stats.variant_number==0) & (stats.gender==gendr)]\n",
    "    x2 = stats[(stats.variant_number==1) & (stats.gender==gendr)]\n",
    "    \n",
    "    n1 = x1.iloc[0]['count']\n",
    "    n2 = x2.iloc[0]['count']\n",
    "    m1 = x1.iloc[0]['mean']\n",
    "    m2 = x2.iloc[0]['mean']\n",
    "    v1 = x1.iloc[0]['var']\n",
    "    v2 = x2.iloc[0]['var']\n",
    "    \n",
    "    pooled_se = np.sqrt(v1 / n1 + v2 / n2) # pooled standard error\n",
    "    delta = m1-m2\n",
    "    \n",
    "    tstat = delta/pooled_se\n",
    "    df = (v1/n1 + v2/n2)**2 / (v1**2 / (n1**2 * (n1 - 1)) + v2**2 / (n2**2 * (n2 - 1)))\n",
    "    \n",
    "    # upper and lower bounds\n",
    "    lowerb = delta - t.ppf(0.975,df)*pooled_se \n",
    "    upperb = delta + t.ppf(0.975,df)*pooled_se\n",
    "  \n",
    "    return (lowerb, upperb)\n"
   ]
  },
  {
   "cell_type": "code",
   "execution_count": 169,
   "metadata": {},
   "outputs": [
    {
     "data": {
      "text/plain": [
       "['female', 'male', 'unknown']"
      ]
     },
     "execution_count": 169,
     "metadata": {},
     "output_type": "execute_result"
    }
   ],
   "source": [
    "genders = desciptive_stats2['gender'].unique()\n",
    "genders = genders.tolist()\n",
    "genders"
   ]
  },
  {
   "cell_type": "code",
   "execution_count": 170,
   "metadata": {},
   "outputs": [
    {
     "data": {
      "text/html": [
       "<div>\n",
       "<style scoped>\n",
       "    .dataframe tbody tr th:only-of-type {\n",
       "        vertical-align: middle;\n",
       "    }\n",
       "\n",
       "    .dataframe tbody tr th {\n",
       "        vertical-align: top;\n",
       "    }\n",
       "\n",
       "    .dataframe thead th {\n",
       "        text-align: right;\n",
       "    }\n",
       "</style>\n",
       "<table border=\"1\" class=\"dataframe\">\n",
       "  <thead>\n",
       "    <tr style=\"text-align: right;\">\n",
       "      <th></th>\n",
       "      <th>variant_number</th>\n",
       "      <th>gender</th>\n",
       "      <th>mean</th>\n",
       "      <th>count</th>\n",
       "      <th>std</th>\n",
       "      <th>var</th>\n",
       "    </tr>\n",
       "  </thead>\n",
       "  <tbody>\n",
       "    <tr>\n",
       "      <th>0</th>\n",
       "      <td>0</td>\n",
       "      <td>female</td>\n",
       "      <td>3.813892</td>\n",
       "      <td>10722</td>\n",
       "      <td>2.097881</td>\n",
       "      <td>4.401107</td>\n",
       "    </tr>\n",
       "    <tr>\n",
       "      <th>1</th>\n",
       "      <td>0</td>\n",
       "      <td>male</td>\n",
       "      <td>4.135381</td>\n",
       "      <td>20951</td>\n",
       "      <td>2.232407</td>\n",
       "      <td>4.983642</td>\n",
       "    </tr>\n",
       "    <tr>\n",
       "      <th>2</th>\n",
       "      <td>0</td>\n",
       "      <td>unknown</td>\n",
       "      <td>3.741863</td>\n",
       "      <td>5675</td>\n",
       "      <td>2.044282</td>\n",
       "      <td>4.179090</td>\n",
       "    </tr>\n",
       "    <tr>\n",
       "      <th>3</th>\n",
       "      <td>1</td>\n",
       "      <td>female</td>\n",
       "      <td>4.894670</td>\n",
       "      <td>2597</td>\n",
       "      <td>2.160392</td>\n",
       "      <td>4.667294</td>\n",
       "    </tr>\n",
       "    <tr>\n",
       "      <th>4</th>\n",
       "      <td>1</td>\n",
       "      <td>male</td>\n",
       "      <td>5.142351</td>\n",
       "      <td>5110</td>\n",
       "      <td>2.077629</td>\n",
       "      <td>4.316544</td>\n",
       "    </tr>\n",
       "    <tr>\n",
       "      <th>5</th>\n",
       "      <td>1</td>\n",
       "      <td>unknown</td>\n",
       "      <td>4.913884</td>\n",
       "      <td>1451</td>\n",
       "      <td>2.109469</td>\n",
       "      <td>4.449861</td>\n",
       "    </tr>\n",
       "  </tbody>\n",
       "</table>\n",
       "</div>"
      ],
      "text/plain": [
       "   variant_number   gender      mean  count       std       var\n",
       "0               0   female  3.813892  10722  2.097881  4.401107\n",
       "1               0     male  4.135381  20951  2.232407  4.983642\n",
       "2               0  unknown  3.741863   5675  2.044282  4.179090\n",
       "3               1   female  4.894670   2597  2.160392  4.667294\n",
       "4               1     male  5.142351   5110  2.077629  4.316544\n",
       "5               1  unknown  4.913884   1451  2.109469  4.449861"
      ]
     },
     "execution_count": 170,
     "metadata": {},
     "output_type": "execute_result"
    }
   ],
   "source": [
    "desciptive_stats2"
   ]
  },
  {
   "cell_type": "code",
   "execution_count": 171,
   "metadata": {},
   "outputs": [
    {
     "name": "stdout",
     "output_type": "stream",
     "text": [
      "female : (-1.172897611484917, -0.988659196716864)\n",
      "male : (-1.0714680545110076, -0.9424723711896545)\n",
      "unknown : (-1.2929575326716525, -1.051083330602728)\n"
     ]
    }
   ],
   "source": [
    "for i in genders:\n",
    "    interval = welch_ttest_gender(desciptive_stats2,i)\n",
    "    print(i, ':', interval)"
   ]
  },
  {
   "cell_type": "markdown",
   "metadata": {},
   "source": [
    "All the gender types are significant."
   ]
  },
  {
   "cell_type": "markdown",
   "metadata": {},
   "source": [
    "#### We will calculate the confidence interval for gender and user type using the unpaired sample t-test"
   ]
  },
  {
   "cell_type": "code",
   "execution_count": 181,
   "metadata": {},
   "outputs": [],
   "source": [
    "desciptive_stats3 = df_final.groupby(['variant_number','gender','user_type'])['active_mins'].agg(['mean', 'count', 'std','var']).reset_index()"
   ]
  },
  {
   "cell_type": "code",
   "execution_count": 174,
   "metadata": {},
   "outputs": [
    {
     "data": {
      "text/plain": [
       "[('female', 'contributor'),\n",
       " ('female', 'new_user'),\n",
       " ('female', 'non_reader'),\n",
       " ('female', 'reader'),\n",
       " ('male', 'contributor'),\n",
       " ('male', 'new_user'),\n",
       " ('male', 'non_reader'),\n",
       " ('male', 'reader'),\n",
       " ('unknown', 'contributor'),\n",
       " ('unknown', 'new_user'),\n",
       " ('unknown', 'non_reader'),\n",
       " ('unknown', 'reader')]"
      ]
     },
     "execution_count": 174,
     "metadata": {},
     "output_type": "execute_result"
    }
   ],
   "source": [
    "# Getting the covariates title\n",
    "covariates = [(g,t) for g in genders for t in ustypes]\n",
    "covariates"
   ]
  },
  {
   "cell_type": "code",
   "execution_count": 184,
   "metadata": {},
   "outputs": [
    {
     "data": {
      "text/html": [
       "<div>\n",
       "<style scoped>\n",
       "    .dataframe tbody tr th:only-of-type {\n",
       "        vertical-align: middle;\n",
       "    }\n",
       "\n",
       "    .dataframe tbody tr th {\n",
       "        vertical-align: top;\n",
       "    }\n",
       "\n",
       "    .dataframe thead th {\n",
       "        text-align: right;\n",
       "    }\n",
       "</style>\n",
       "<table border=\"1\" class=\"dataframe\">\n",
       "  <thead>\n",
       "    <tr style=\"text-align: right;\">\n",
       "      <th></th>\n",
       "      <th>variant_number</th>\n",
       "      <th>gender</th>\n",
       "      <th>user_type</th>\n",
       "      <th>mean</th>\n",
       "      <th>count</th>\n",
       "      <th>std</th>\n",
       "      <th>var</th>\n",
       "    </tr>\n",
       "  </thead>\n",
       "  <tbody>\n",
       "    <tr>\n",
       "      <th>0</th>\n",
       "      <td>0</td>\n",
       "      <td>female</td>\n",
       "      <td>contributor</td>\n",
       "      <td>6.671780</td>\n",
       "      <td>220</td>\n",
       "      <td>2.419065</td>\n",
       "      <td>5.851874</td>\n",
       "    </tr>\n",
       "    <tr>\n",
       "      <th>1</th>\n",
       "      <td>0</td>\n",
       "      <td>female</td>\n",
       "      <td>new_user</td>\n",
       "      <td>2.769714</td>\n",
       "      <td>761</td>\n",
       "      <td>1.642570</td>\n",
       "      <td>2.698035</td>\n",
       "    </tr>\n",
       "    <tr>\n",
       "      <th>2</th>\n",
       "      <td>0</td>\n",
       "      <td>female</td>\n",
       "      <td>non_reader</td>\n",
       "      <td>3.297046</td>\n",
       "      <td>7935</td>\n",
       "      <td>1.596556</td>\n",
       "      <td>2.548991</td>\n",
       "    </tr>\n",
       "    <tr>\n",
       "      <th>3</th>\n",
       "      <td>0</td>\n",
       "      <td>female</td>\n",
       "      <td>reader</td>\n",
       "      <td>6.176604</td>\n",
       "      <td>1806</td>\n",
       "      <td>2.208072</td>\n",
       "      <td>4.875583</td>\n",
       "    </tr>\n",
       "    <tr>\n",
       "      <th>4</th>\n",
       "      <td>0</td>\n",
       "      <td>male</td>\n",
       "      <td>contributor</td>\n",
       "      <td>7.739456</td>\n",
       "      <td>567</td>\n",
       "      <td>2.547987</td>\n",
       "      <td>6.492238</td>\n",
       "    </tr>\n",
       "    <tr>\n",
       "      <th>5</th>\n",
       "      <td>0</td>\n",
       "      <td>male</td>\n",
       "      <td>new_user</td>\n",
       "      <td>2.931759</td>\n",
       "      <td>1132</td>\n",
       "      <td>1.798486</td>\n",
       "      <td>3.234553</td>\n",
       "    </tr>\n",
       "    <tr>\n",
       "      <th>6</th>\n",
       "      <td>0</td>\n",
       "      <td>male</td>\n",
       "      <td>non_reader</td>\n",
       "      <td>3.449876</td>\n",
       "      <td>15174</td>\n",
       "      <td>1.540658</td>\n",
       "      <td>2.373626</td>\n",
       "    </tr>\n",
       "    <tr>\n",
       "      <th>7</th>\n",
       "      <td>0</td>\n",
       "      <td>male</td>\n",
       "      <td>reader</td>\n",
       "      <td>6.519109</td>\n",
       "      <td>4078</td>\n",
       "      <td>2.309832</td>\n",
       "      <td>5.335323</td>\n",
       "    </tr>\n",
       "    <tr>\n",
       "      <th>8</th>\n",
       "      <td>0</td>\n",
       "      <td>unknown</td>\n",
       "      <td>contributor</td>\n",
       "      <td>6.896612</td>\n",
       "      <td>92</td>\n",
       "      <td>2.690255</td>\n",
       "      <td>7.237472</td>\n",
       "    </tr>\n",
       "    <tr>\n",
       "      <th>9</th>\n",
       "      <td>0</td>\n",
       "      <td>unknown</td>\n",
       "      <td>new_user</td>\n",
       "      <td>2.811588</td>\n",
       "      <td>477</td>\n",
       "      <td>1.763829</td>\n",
       "      <td>3.111094</td>\n",
       "    </tr>\n",
       "    <tr>\n",
       "      <th>10</th>\n",
       "      <td>0</td>\n",
       "      <td>unknown</td>\n",
       "      <td>non_reader</td>\n",
       "      <td>3.336204</td>\n",
       "      <td>4329</td>\n",
       "      <td>1.579214</td>\n",
       "      <td>2.493917</td>\n",
       "    </tr>\n",
       "    <tr>\n",
       "      <th>11</th>\n",
       "      <td>0</td>\n",
       "      <td>unknown</td>\n",
       "      <td>reader</td>\n",
       "      <td>6.199528</td>\n",
       "      <td>777</td>\n",
       "      <td>2.283123</td>\n",
       "      <td>5.212653</td>\n",
       "    </tr>\n",
       "    <tr>\n",
       "      <th>12</th>\n",
       "      <td>1</td>\n",
       "      <td>female</td>\n",
       "      <td>contributor</td>\n",
       "      <td>7.278752</td>\n",
       "      <td>26</td>\n",
       "      <td>1.863732</td>\n",
       "      <td>3.473495</td>\n",
       "    </tr>\n",
       "    <tr>\n",
       "      <th>13</th>\n",
       "      <td>1</td>\n",
       "      <td>female</td>\n",
       "      <td>new_user</td>\n",
       "      <td>4.303233</td>\n",
       "      <td>274</td>\n",
       "      <td>2.460327</td>\n",
       "      <td>6.053210</td>\n",
       "    </tr>\n",
       "    <tr>\n",
       "      <th>14</th>\n",
       "      <td>1</td>\n",
       "      <td>female</td>\n",
       "      <td>non_reader</td>\n",
       "      <td>4.607676</td>\n",
       "      <td>1966</td>\n",
       "      <td>1.948157</td>\n",
       "      <td>3.795314</td>\n",
       "    </tr>\n",
       "    <tr>\n",
       "      <th>15</th>\n",
       "      <td>1</td>\n",
       "      <td>female</td>\n",
       "      <td>reader</td>\n",
       "      <td>6.901612</td>\n",
       "      <td>331</td>\n",
       "      <td>1.891268</td>\n",
       "      <td>3.576895</td>\n",
       "    </tr>\n",
       "    <tr>\n",
       "      <th>16</th>\n",
       "      <td>1</td>\n",
       "      <td>male</td>\n",
       "      <td>contributor</td>\n",
       "      <td>7.583965</td>\n",
       "      <td>79</td>\n",
       "      <td>2.331293</td>\n",
       "      <td>5.434928</td>\n",
       "    </tr>\n",
       "    <tr>\n",
       "      <th>17</th>\n",
       "      <td>1</td>\n",
       "      <td>male</td>\n",
       "      <td>new_user</td>\n",
       "      <td>4.231694</td>\n",
       "      <td>368</td>\n",
       "      <td>2.280451</td>\n",
       "      <td>5.200459</td>\n",
       "    </tr>\n",
       "    <tr>\n",
       "      <th>18</th>\n",
       "      <td>1</td>\n",
       "      <td>male</td>\n",
       "      <td>non_reader</td>\n",
       "      <td>4.798440</td>\n",
       "      <td>3919</td>\n",
       "      <td>1.801182</td>\n",
       "      <td>3.244256</td>\n",
       "    </tr>\n",
       "    <tr>\n",
       "      <th>19</th>\n",
       "      <td>1</td>\n",
       "      <td>male</td>\n",
       "      <td>reader</td>\n",
       "      <td>7.145066</td>\n",
       "      <td>744</td>\n",
       "      <td>1.936402</td>\n",
       "      <td>3.749654</td>\n",
       "    </tr>\n",
       "    <tr>\n",
       "      <th>20</th>\n",
       "      <td>1</td>\n",
       "      <td>unknown</td>\n",
       "      <td>contributor</td>\n",
       "      <td>6.518595</td>\n",
       "      <td>19</td>\n",
       "      <td>2.107957</td>\n",
       "      <td>4.443481</td>\n",
       "    </tr>\n",
       "    <tr>\n",
       "      <th>21</th>\n",
       "      <td>1</td>\n",
       "      <td>unknown</td>\n",
       "      <td>new_user</td>\n",
       "      <td>4.401460</td>\n",
       "      <td>153</td>\n",
       "      <td>2.519225</td>\n",
       "      <td>6.346496</td>\n",
       "    </tr>\n",
       "    <tr>\n",
       "      <th>22</th>\n",
       "      <td>1</td>\n",
       "      <td>unknown</td>\n",
       "      <td>non_reader</td>\n",
       "      <td>4.644494</td>\n",
       "      <td>1105</td>\n",
       "      <td>1.854406</td>\n",
       "      <td>3.438822</td>\n",
       "    </tr>\n",
       "    <tr>\n",
       "      <th>23</th>\n",
       "      <td>1</td>\n",
       "      <td>unknown</td>\n",
       "      <td>reader</td>\n",
       "      <td>6.900018</td>\n",
       "      <td>174</td>\n",
       "      <td>2.089768</td>\n",
       "      <td>4.367132</td>\n",
       "    </tr>\n",
       "  </tbody>\n",
       "</table>\n",
       "</div>"
      ],
      "text/plain": [
       "    variant_number   gender    user_type      mean  count       std       var\n",
       "0                0   female  contributor  6.671780    220  2.419065  5.851874\n",
       "1                0   female     new_user  2.769714    761  1.642570  2.698035\n",
       "2                0   female   non_reader  3.297046   7935  1.596556  2.548991\n",
       "3                0   female       reader  6.176604   1806  2.208072  4.875583\n",
       "4                0     male  contributor  7.739456    567  2.547987  6.492238\n",
       "5                0     male     new_user  2.931759   1132  1.798486  3.234553\n",
       "6                0     male   non_reader  3.449876  15174  1.540658  2.373626\n",
       "7                0     male       reader  6.519109   4078  2.309832  5.335323\n",
       "8                0  unknown  contributor  6.896612     92  2.690255  7.237472\n",
       "9                0  unknown     new_user  2.811588    477  1.763829  3.111094\n",
       "10               0  unknown   non_reader  3.336204   4329  1.579214  2.493917\n",
       "11               0  unknown       reader  6.199528    777  2.283123  5.212653\n",
       "12               1   female  contributor  7.278752     26  1.863732  3.473495\n",
       "13               1   female     new_user  4.303233    274  2.460327  6.053210\n",
       "14               1   female   non_reader  4.607676   1966  1.948157  3.795314\n",
       "15               1   female       reader  6.901612    331  1.891268  3.576895\n",
       "16               1     male  contributor  7.583965     79  2.331293  5.434928\n",
       "17               1     male     new_user  4.231694    368  2.280451  5.200459\n",
       "18               1     male   non_reader  4.798440   3919  1.801182  3.244256\n",
       "19               1     male       reader  7.145066    744  1.936402  3.749654\n",
       "20               1  unknown  contributor  6.518595     19  2.107957  4.443481\n",
       "21               1  unknown     new_user  4.401460    153  2.519225  6.346496\n",
       "22               1  unknown   non_reader  4.644494   1105  1.854406  3.438822\n",
       "23               1  unknown       reader  6.900018    174  2.089768  4.367132"
      ]
     },
     "execution_count": 184,
     "metadata": {},
     "output_type": "execute_result"
    }
   ],
   "source": [
    "desciptive_stats3"
   ]
  },
  {
   "cell_type": "code",
   "execution_count": 176,
   "metadata": {},
   "outputs": [],
   "source": [
    "def welch_ttest_interaction(stats,cov):\n",
    "    x1 = stats[(stats.variant_number==0) & (stats.gender==cov[0]) & (stats.user_type==cov[1])]\n",
    "    x2 = stats[(stats.variant_number==1) & (stats.gender==cov[0]) & (stats.user_type==cov[1])]\n",
    "    \n",
    "    n1 = x1.iloc[0]['count']\n",
    "    n2 = x2.iloc[0]['count']\n",
    "    m1 = x1.iloc[0]['mean']\n",
    "    m2 = x2.iloc[0]['mean']\n",
    "    v1 = x1.iloc[0]['var']\n",
    "    v2 = x2.iloc[0]['var']\n",
    "    \n",
    "    pooled_se = np.sqrt(v1 / n1 + v2 / n2) # pooled standard error\n",
    "    delta = m1-m2\n",
    "    \n",
    "    tstat = delta/pooled_se\n",
    "    df = (v1/n1 + v2/n2)**2 / (v1**2 / (n1**2 * (n1 - 1)) + v2**2 / (n2**2 * (n2 - 1)))\n",
    "    \n",
    "    # upper and lower bounds\n",
    "    lowerb = delta - t.ppf(0.975,df)*pooled_se \n",
    "    upperb = delta + t.ppf(0.975,df)*pooled_se\n",
    "  \n",
    "    return (lowerb, upperb)"
   ]
  },
  {
   "cell_type": "code",
   "execution_count": 183,
   "metadata": {},
   "outputs": [
    {
     "name": "stdout",
     "output_type": "stream",
     "text": [
      "('female', 'contributor') : (-1.4188755041551064, 0.20492997380720845)\n",
      "('female', 'new_user') : (-1.8483884920728766, -1.218649942473176)\n",
      "('female', 'non_reader') : (-1.4036774044936078, -1.2175834537955523)\n",
      "('female', 'reader') : (-0.953328666398302, -0.49668879536118804)\n",
      "('male', 'contributor') : (-0.40615328317995847, 0.7171353596485047)\n",
      "('male', 'new_user') : (-1.5559926009919853, -1.0438769427219428)\n",
      "('male', 'non_reader') : (-1.4100678936059106, -1.2870615142765873)\n",
      "('male', 'reader') : (-0.7822805175384289, -0.4696335672046665)\n",
      "('unknown', 'contributor') : (-0.7615205512858565, 1.5175542272446179)\n",
      "('unknown', 'new_user') : (-2.0218786869192367, -1.1578650103203938)\n",
      "('unknown', 'non_reader') : (-1.427412790777369, -1.1891673584564908)\n",
      "('unknown', 'reader') : (-1.051594824596254, -0.3493854613089073)\n"
     ]
    }
   ],
   "source": [
    "for c in covariates:\n",
    "    interval = welch_ttest_interaction(desciptive_stats3,c)\n",
    "    print(c, ':', interval)"
   ]
  },
  {
   "cell_type": "markdown",
   "metadata": {},
   "source": [
    "We can see that female contributor, male contributor and unknown contributor are not significant while the rest of them are."
   ]
  },
  {
   "cell_type": "code",
   "execution_count": null,
   "metadata": {},
   "outputs": [],
   "source": [
    "## The data visualization was done in R using GGplot\n",
    "\n",
    "# Code for user type plot\n",
    "\n",
    "# library(readr)\n",
    "# library(ggplot2)\n",
    "# df <- read_csv(\"quora.csv\")\n",
    "# g <- ggplot(df, aes(user_type, active_mins))\n",
    "# g + geom_boxplot(aes(fill=factor(variant_number)))+\n",
    "# theme(\n",
    "# panel.background = element_blank(),\n",
    "# panel.grid.major = element_line(colour = \"blue\",size=0.01,linetype =\n",
    "# 8),\n",
    "# panel.grid.minor = element_blank(),\n",
    "# axis.line.x = element_line(colour = \"black\"),\n",
    "# axis.line.y = element_line(colour = \"black\"),\n",
    "# legend.background = element_rect(fill=\"transparent\", size=0.5,linetype=\"solid\"),\n",
    "# legend.position = c(0.8,0.9),\n",
    "# legend.text = element_text(colour=\"black\", size=14),\n",
    "# strip.text.x = element_text(size = 14)) + labs(x='User Type', y='Active Mins') + \n",
    "# guides(fill=guide_legend(title=\"Treatment\")) + ggtitle(\"Fig 1a: Box plot of active minutes \n",
    "# between control and treatment based on user type\")\n",
    "\n",
    "# ```{r, echo=FALSE}\n",
    "\n",
    "# gender Plot\n",
    "\n",
    "# g <- ggplot(df, aes(gender, active_mins))\n",
    "# g + geom_boxplot(aes(fill=factor(variant_number)))+\n",
    "# theme(\n",
    "# panel.background = element_blank(),\n",
    "# panel.grid.major = element_line(colour = \"grey\",size=0.01,linetype = 8),\n",
    "# panel.grid.minor = element_blank(),\n",
    "# legend.title=element_text(size=14),\n",
    "# legend.box = \"horizontal\",\n",
    "# axis.text = element_text(colour = \"black\"),\n",
    "# axis.text.x = element_text(size = 14,vjust=0.6),\n",
    "# strip.text.x = element_text(size = 14)) + guides(fill=guide_legend(title=\"Treatment\")) + \n",
    "# ggtitle(\"Fig 1b: Box plot of active minutes between control and treatment based on gender\")\n",
    "# + labs(x='User-Gender',y='Active Mins')\n",
    "\n",
    "# # Interaction plot\n",
    "\n",
    "# df$int <- interaction(df$user_type, df$gender)\n",
    "# g <- ggplot(df3, aes(int, active_mins))\n",
    "# g + geom_boxplot(aes(fill=factor(variant_number)))+\n",
    "# theme(\n",
    "# panel.background = element_blank(),\n",
    "# panel.grid.major = element_line(colour = \"grey\",size=0.01,linetype = 8),\n",
    "# panel.grid.minor = element_blank(),\n",
    "# axis.line.x = element_line(colour = \"black\"),\n",
    "# axis.line.y = element_line(colour = \"black\"),\n",
    "# legend.background = element_rect(fill=\"transparent\", size=0.5,\n",
    "# linetype=\"solid\"),\n",
    "# legend.text = element_text(colour=\"black\", size=14),\n",
    "# legend.title=element_text(size=14),\n",
    "# legend.box = \"horizontal\",\n",
    "# strip.text.x = element_text(size = 14)) + labs(x='User_Type - Gender',y='Active Mins') + \n",
    "# guides(fill=guide_legend(title=\"Treatment\")) + ggtitle(\"Fig 2: Box plot of active minutes \n",
    "# between control and treatment based on\\n interaction of user type and gender\")\n",
    "# ```"
   ]
  },
  {
   "cell_type": "markdown",
   "metadata": {},
   "source": [
    "  "
   ]
  },
  {
   "cell_type": "markdown",
   "metadata": {},
   "source": [
    " "
   ]
  },
  {
   "cell_type": "markdown",
   "metadata": {},
   "source": [
    " "
   ]
  }
 ],
 "metadata": {
  "kernelspec": {
   "display_name": "Python 3",
   "language": "python",
   "name": "python3"
  },
  "language_info": {
   "codemirror_mode": {
    "name": "ipython",
    "version": 3
   },
   "file_extension": ".py",
   "mimetype": "text/x-python",
   "name": "python",
   "nbconvert_exporter": "python",
   "pygments_lexer": "ipython3",
   "version": "3.7.6"
  }
 },
 "nbformat": 4,
 "nbformat_minor": 4
}
